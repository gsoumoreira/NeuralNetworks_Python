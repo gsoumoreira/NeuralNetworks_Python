{
 "cells": [
  {
   "cell_type": "markdown",
   "metadata": {},
   "source": [
    "# Neural Networks\n",
    "\n",
    "Artificial neural networks (ANN) or connectionist systems are computing systems vaguely inspired by the biological neural networks that constitute animal brains. The neural network itself is not an algorithm, but rather a framework for many different machine learning algorithms to work together and process complex data inputs. Such systems \"learn\" to perform tasks by considering examples, generally without being programmed with any task-specific rules (text from [Wikipedia](https://en.wikipedia.org/wiki/Artificial_neural_network). It turns out that when we have a dataset with many features, the implementation of traditional linear and logistic regression models becomes infeasible. Since for reproduce complex boundary decisions it is necessary high order polynomials computation, which will result in more features (as it was done and discussed in [Logistic Regression repository](https://github.com/gsoumoreira/LogisticRegression_Python)). Neural networks may be a good alternative for do such big data computation.\n",
    "Before continue with the exercise, it is important to understand neural netoworks implementation and technical terms. **Figure 1** shows a typical neural network representation with the main components.\n",
    "\n",
    "\n",
    "\n",
    "<html>\n",
    "<p>\n",
    "<p>\n",
    "<body>\n",
    "    <div align=\"center\">\n",
    "        <img src=\"Images/Neural_Net_Draw.png\" \n",
    "        width = \"700\" /><p>\n",
    "    </div>\n",
    "</body>\n",
    "<body>\n",
    "    <div align=\"center\">\n",
    "     Figure 1 - Typical neural network with three layers\n",
    "    </div>\n",
    "    <p>\n",
    "    <p>\n",
    "</body>\n",
    "</html>\n",
    "\n",
    "the blue circles are the _**input nodes**_ and all the input nodes represent the _**input layer**_ and in this case, it is the first layer. This layer adress dataset input in the neuron network. The yellow circles are the _**activation nodes**_ which compute an _**activation function**_ of an input. (For instance, compute the _**sigmoid function**_ of each input of the first layer). **Equation 1** shows the mathematical representation of **Figure 1**\n",
    "\n",
    "$$ a_1^{(2)} = g(\\Theta_{10}^{(1)}x_0 + \\Theta_{11}^{(1)}x_1 + \\Theta_{12}^{(1)}x_2 + \\Theta_{13}^{(1)}x_3)$$\n",
    "\n",
    "$$ a_2^{(2)} = g(\\Theta_{20}^{(1)}x_0 + \\Theta_{21}^{(1)}x_1 + \\Theta_{22}^{(1)}x_2 + \\Theta_{23}^{(1)}x_3)$$\n",
    "\n",
    "$$ a_3^{(2)} = g(\\Theta_{30}^{(1)}x_0 + \\Theta_{31}^{(1)}x_1 + \\Theta_{32}^{(1)}x_2 + \\Theta_{33}^{(1)}x_3)$$\n",
    "\n",
    "\n",
    "$$ h_\\Theta (x) = a_1^{(3)} = g(\\Theta_{10}^{(2)}a_{0}^{(2)} + \\Theta_{11}^{(2)}a_{1}^{(2)} + \\Theta_{12}^{(2)}a_{2}^{(2)} + \\Theta_{13}^{(2)}a_{3}^{(2)}) \\quad\\quad (1) $$\n",
    "\n",
    "\n",
    "We can define: \n",
    "\n",
    "$$a_i^{(j)} = \\text{activation of unit i in layer j}$$.\n",
    "$$\\Theta_{(j)} = \\text{Matrix of weights controlling function mapping from layer j to j + 1}$$. \n",
    "\n",
    "The _**weights**_ were previously called _**parameters**_ of the hypothesis. \n",
    "\n",
    "\n",
    "\n",
    "In this repository, we will use data from Coursera's course Machine Learning (Professor Andrew Ng from Stanford University), as well as follow the development steps of code and theory proposed by the course itself. However, python will be the programming language used, with the purpose of exercising the development of Neural Network in another language, as well as discussing other possible paths that python libraries provide.\n",
    "\n",
    "## First Exercise\n",
    "\n",
    "For this exercise, you will use logistic regression and neural networks to recognize handwritten digits (from 0 to 9). Automated handwritten digit recognition is widely used today - from recognizing zip codes (postal codes) on mail envelopes to recognizing amounts written on bank checks. This exercise will show you how the methods you’ve learned can be used for this classification task."
   ]
  },
  {
   "cell_type": "markdown",
   "metadata": {},
   "source": [
    "## Importing the python and created libraries"
   ]
  },
  {
   "cell_type": "code",
   "execution_count": 1,
   "metadata": {},
   "outputs": [],
   "source": [
    "import numpy as np\n",
    "import pandas as pd\n",
    "from scipy.io import loadmat\n",
    "import matplotlib.pyplot as plt\n",
    "#%config InlineBackend.figure_formats = {'pdf',}\n",
    "%matplotlib inline"
   ]
  },
  {
   "cell_type": "markdown",
   "metadata": {},
   "source": [
    "##  Importing and organazing dataset\n",
    "\n",
    "The dataset is a matlab file that contains 5000 training examples of handwritten digits.  where each training example is a 20 pixel by 20 pixel grayscale image of the digit. Each pixel is represented by a floating point number indicating the grayscale intensity at that location. The 20 by 20 grid of pixels is “unrolled” into a 400-dimensional] vector. Each of these training examples becomes a single row in our data matrix _**X**_. This gives us a 5000 by 400 matrix _**X**_ where every row is a training example for a handwritten digit image.\n",
    "The second part of the training set is a 5000-dimensional vector _**y**_ that contains labels for the training set. To make things more compatible with Octave/MATLAB indexing, where there is no zero index, we have mapped the digit zero to the value ten. Therefore, a “0” digit is labeled as “10”, while the digits “1” to “9” are labeled as “1” to “9” in their natural order. In order to use pandas, I converted the orginal ex1_Data.mat file in two csv files coitaining the _**X**_ and _**y**_ dataset described."
   ]
  },
  {
   "cell_type": "code",
   "execution_count": 2,
   "metadata": {},
   "outputs": [],
   "source": [
    "# Path do the Dataset\n",
    "pathtodataX = 'Exercise_Data/ex1_X.csv'\n",
    "pathtodataY = 'Exercise_Data/ex1_y.csv'\n",
    "\n",
    "# Importing the dataset (matlab format)\n",
    "X = pd.read_csv(pathtodataX,delimiter = ',',header=None)\n",
    "y = pd.read_csv(pathtodataY,delimiter = ',',header=None)"
   ]
  },
  {
   "cell_type": "code",
   "execution_count": 3,
   "metadata": {},
   "outputs": [
    {
     "data": {
      "image/png": "[encoded data removed]",
      "text/plain": [
       "<Figure size 432x288 with 1 Axes>"
      ]
     },
     "metadata": {},
     "output_type": "display_data"
    }
   ],
   "source": [
    "# 5 Random samples from the X dataset rows \n",
    "randomlist = np.random.choice(X.shape[0],5)\n",
    "\n",
    "# Reshaping the data for 20x20 pixel side (each number will be sibe by side)\n",
    "# Important note the reshape function should be aligned with the pixel data\n",
    "draw = X.iloc[randomlist].values.reshape(-1,20).T\n",
    "plt.imshow(draw)\n",
    "plt.axis('off');"
   ]
  },
  {
   "cell_type": "markdown",
   "metadata": {},
   "source": [
    "## The Sigmoid Function\n",
    "\n",
    "The sigmoid functions (also known as logistic funtion) is represented in the **Equation 1** and has the characteristc of \"S\"-shaped curve. The function was named by [Pierre François Verhulst](https://en.wikipedia.org/wiki/Pierre_Fran%C3%A7ois_Verhulst) in his publication: _**Loi D'Accroissement de la population**_ or **Law of Population Growth**.\n",
    "\n",
    "$$g(z) = \\frac{1}{1+e^{-z}} \\quad\\quad (2)$$\n",
    "\n",
    "For more details about the sigmoid function and how is the implementation, check the [Logistic Regression repository](https://github.com/gsoumoreira/LogisticRegression_Python) "
   ]
  },
  {
   "cell_type": "code",
   "execution_count": 4,
   "metadata": {},
   "outputs": [],
   "source": [
    "def sigmoid(z):\n",
    "    \n",
    "    g = 1/(1+(np.exp(-z)))\n",
    "\n",
    "    return g"
   ]
  },
  {
   "cell_type": "markdown",
   "metadata": {},
   "source": [
    "## Vectorizing  regularized logistic regression\n",
    "\n",
    "You will be using multiple one-vs-all logistic regression models to build a multi-class classifier. Since there are 10 classes, you will need to train 10 separate logistic regression classifiers. To make this training efficient, it is important to ensure that your code is well vectorized.\n",
    "**Equation 2** shows the vectorized form of the regularized cost function and **Equation 3** shows the vectorized form of the gradient.\n",
    "\n",
    "$$ J(\\theta) = \\frac{1}{m}\\big((\\,log\\,(g(X\\theta))^Ty+(\\,log\\,(1-g(X\\theta))^T(1-y)\\big) + \\frac{\\lambda}{2m}\\sum_{j=1}^{n}\\theta_{j}^{2}\\quad\\quad (3)$$\n",
    "\n",
    "$$ \\frac{\\delta J(\\theta)}{\\delta\\theta_{j}} = \\frac{1}{m} X^T(g(X\\theta)-y) + \\frac{\\lambda}{m}\\theta_{j}\\quad\\quad\\text{for j > 0}\\quad\\quad (4)$$\n",
    "\n",
    "Where $\\lambda$ is the **Regularized Parameter**. The main idea in use regularization is to reduce the influence of some features in the hypothesis. Check the [Logistic Regression repository](https://github.com/gsoumoreira/LogisticRegression_Python) for more details."
   ]
  },
  {
   "cell_type": "code",
   "execution_count": 5,
   "metadata": {},
   "outputs": [],
   "source": [
    "def computeCostReg(theta, reg, x, y):\n",
    "\n",
    "    # Hypothesis function g(X*Theta)\n",
    "    hip = sigmoid(x.dot(theta))\n",
    "    \n",
    "    # The regularized cost Function\n",
    "    J = -1*(1/len(y))*(np.log(hip).T.dot(y)+np.log(1-hip).T.dot(1-y))\n",
    "    + (reg/(2*len(y)))*np.sum(np.square(theta[1:]))\n",
    "    \n",
    "    return float (J)"
   ]
  },
  {
   "cell_type": "code",
   "execution_count": 6,
   "metadata": {},
   "outputs": [],
   "source": [
    "def gradientReg(theta, reg, x, y):\n",
    "\n",
    "    # Hypothesis function g(X*Theta)\n",
    "    hip = sigmoid(x.dot(theta.reshape(-1,1) ))\n",
    "    \n",
    "    # The Regularized gradient (Changing the theta[0] to 0 temporaly)\n",
    "    theta_0 = theta[0]\n",
    "    theta[0] = 0\n",
    "    grad = (1/len(y))*x.T.dot(hip-y) + (reg/len(y))*theta.reshape(-1,1) \n",
    "    theta[0] = theta_0\n",
    "    \n",
    "    return grad.flatten()"
   ]
  },
  {
   "cell_type": "markdown",
   "metadata": {},
   "source": [
    "## One vs all classification\n",
    "\n",
    "In this part of the exercise, we will implement one-vs-all classification by training multiple regularized logistic regression classifiers, one for each of the K classes in our dataset (0 to 9 handwrite digit). It will be used the _**minimize()**_ function to find the best hypothesis paramerters (as also used and explained in [Logistic Regression repository](https://github.com/gsoumoreira/LogisticRegression_Python)) and **Figure 2** shows the prediction plot using this hypothesis."
   ]
  },
  {
   "cell_type": "code",
   "execution_count": 7,
   "metadata": {},
   "outputs": [],
   "source": [
    "# Inserting the X0 with zero values\n",
    "X.insert(loc=0, column='X0', value=np.zeros(X.values.shape[0]))\n",
    "\n",
    "# Number of classes \n",
    "K = 10"
   ]
  },
  {
   "cell_type": "code",
   "execution_count": 8,
   "metadata": {},
   "outputs": [],
   "source": [
    "from scipy.optimize import minimize\n",
    "\n",
    "def oneVsAll(X, y, K, reg):\n",
    "    \n",
    "    # Creatting the 1D array theta_initial values with X size (401)\n",
    "    initial_theta = np.zeros(X.shape[1])\n",
    "    \n",
    "    # Creatting the theta variable with X size and number of K classifiers\n",
    "    theta = np.zeros([K,X.shape[1]])\n",
    "    \n",
    "    # Compute the best parameter for each class (0 to 9)\n",
    "    for i in range(1, K+1):\n",
    "            \n",
    "    # computeCostReg must return a float and the parameter to be optimizer must\n",
    "    # be 1D array (initial_theta ) and also must be the first arugment\n",
    "    # computeCostReg(theta,....) // (y == i)*1) = 0 or 1 for each class (K)\n",
    "        best_Hyp = minimize(computeCostReg, initial_theta,\n",
    "                       args=(reg, X, (y == i)*1), method='TNC',jac=gradientReg)\n",
    "    \n",
    "    # Adjusting the index (0-9) with the K classifiers (1-10)\n",
    "        theta[i-1] = best_Hyp.x\n",
    "        \n",
    "    return theta"
   ]
  },
  {
   "cell_type": "code",
   "execution_count": 9,
   "metadata": {
    "scrolled": true
   },
   "outputs": [],
   "source": [
    "# Computting oneVsAll to get optimized theta\n",
    "bestTheta = oneVsAll(X.values, y.values, K, 0.1)"
   ]
  },
  {
   "cell_type": "code",
   "execution_count": 10,
   "metadata": {},
   "outputs": [],
   "source": [
    "def predictOneVsAll(theta, X):\n",
    "    \n",
    "    # X(5000x401) dot theta(401x10) = (5000x10)\n",
    "    predict = sigmoid(X.dot(theta.T))\n",
    "        \n",
    "    # Adjusting the index (0-9) with the K classifiers (1-10)\n",
    "    # Returning the column index K (1-10) with the highest value (the most\n",
    "    # probably handwrite digit)\n",
    "    return (np.argmax(predict, axis=1)+1)"
   ]
  },
  {
   "cell_type": "code",
   "execution_count": 11,
   "metadata": {},
   "outputs": [
    {
     "name": "stdout",
     "output_type": "stream",
     "text": [
      "Training set accuracy: 0    95.92\n",
      "dtype: float64 %\n"
     ]
    }
   ],
   "source": [
    "# Computting the prediction\n",
    "pred = pd.DataFrame(predictOneVsAll(bestTheta, X.values))\n",
    "print('Training set accuracy: {} %'.format(np.mean(pred == y)*100))"
   ]
  },
  {
   "cell_type": "code",
   "execution_count": 12,
   "metadata": {},
   "outputs": [
    {
     "data": {
      "image/png": "[encoded data removed]",
      "text/plain": [
       "<Figure size 864x432 with 1 Axes>"
      ]
     },
     "metadata": {},
     "output_type": "display_data"
    }
   ],
   "source": [
    "import MLplot as pl\n",
    "\n",
    "# list with number of trainning data\n",
    "num_data = list(range(5000))\n",
    "\n",
    "# Plotting the prediction result\n",
    "predplot = pl.plot2D(num_data,pred)\n",
    "predplot.set_ylabel(r'Classifier K',fontsize=12)\n",
    "predplot.set_xlabel(r'Sample number',fontsize=12)\n",
    "predplot.set_title('Figure 2 - Prediction Result Plot - OneVsAll');"
   ]
  },
  {
   "cell_type": "markdown",
   "metadata": {},
   "source": [
    "## Neural Networks - Feedforward propagation\n",
    "\n",
    "In this part of the exercise, you will implement a neural network to recognize handwritten digits using the same training set as before. The neural network will be able to represent complex models that form non-linear hypothesis. You will be using parameters from a neural network that we have already trained. The goal is to implement the _**feedforward propagation**_ algorithm using the weights provided in _**weights1.csv and weights2.csv**_. The feedfoward propagation might be interpreted as the computation of the layers as was shown in **Figure 1** and **Equation 1**, from the input layer flowing to the output. Later on, the _**backpropagation**_ will be implemented and it will linke directly with _**weights**_ optimization discussion. For now, the optimum weights are given in the files: _**weights1.csv and weights2.csv**_)."
   ]
  },
  {
   "cell_type": "code",
   "execution_count": 13,
   "metadata": {},
   "outputs": [],
   "source": [
    "pathtodataW1 = 'Exercise_Data/weights1.csv'\n",
    "pathtodataW2 = 'Exercise_Data/weights2.csv'\n",
    "\n",
    "# Importing the dataset (matlab format)\n",
    "weights1 = pd.read_csv(pathtodataW1,delimiter = ',',header=None) # 25x401 size\n",
    "weights2 = pd.read_csv(pathtodataW2,delimiter = ',',header=None) # 10x26 size"
   ]
  },
  {
   "cell_type": "code",
   "execution_count": 14,
   "metadata": {},
   "outputs": [],
   "source": [
    "# Changing the X0 values  \n",
    "X['X0'] = 1"
   ]
  },
  {
   "cell_type": "code",
   "execution_count": 17,
   "metadata": {},
   "outputs": [],
   "source": [
    "def predict(weights1, weights2, X):\n",
    "    \n",
    "    # The second (First hidden) layer it will be the X.weights1\n",
    "    # (Which correspond a 25 nodes layer ) \n",
    "    a2 = sigmoid(X.dot(weights1.T))\n",
    "\n",
    "    # Adding bias to the second hidden layer\n",
    "    a2 = np.c_[np.ones((a2.shape[0],1)),a2]\n",
    "    \n",
    "    # The third (second hidden and output layer) layer it will be the \n",
    "    # z2.weights (Which correspond a 10 nodes layer (0-9 digit)) \n",
    "    a3 = sigmoid(a2.dot(weights2.T))\n",
    "\n",
    "    # Adjusting the index (0-9) with the K classifiers (1-10)\n",
    "    # Returning the column index K (1-10) with the highest value (the most\n",
    "    # probably handwrite digit)\n",
    "    return (np.argmax(a3, axis=1)+1) "
   ]
  },
  {
   "cell_type": "code",
   "execution_count": 18,
   "metadata": {},
   "outputs": [],
   "source": [
    "predNN = pd.DataFrame(predict(weights1.values, weights2.values, X.values))"
   ]
  },
  {
   "cell_type": "code",
   "execution_count": 19,
   "metadata": {},
   "outputs": [
    {
     "name": "stdout",
     "output_type": "stream",
     "text": [
      "Training set accuracy: 0    97.52\n",
      "dtype: float64 %\n"
     ]
    }
   ],
   "source": [
    "# Computting the prediction\n",
    "red = pd.DataFrame(predictOneVsAll(bestTheta, X.values))\n",
    "print('Training set accuracy: {} %'.format(np.mean(predNN == y)*100))"
   ]
  },
  {
   "cell_type": "code",
   "execution_count": 20,
   "metadata": {},
   "outputs": [
    {
     "data": {
      "image/png": "[encoded data removed]",
      "text/plain": [
       "<Figure size 864x432 with 1 Axes>"
      ]
     },
     "metadata": {},
     "output_type": "display_data"
    }
   ],
   "source": [
    "# Plotting the prediction result\n",
    "predNNplot = pl.plot2D(num_data,predNN)\n",
    "predNNplot.set_ylabel(r'Classifier K',fontsize=12)\n",
    "predNNplot.set_xlabel(r'Sample number',fontsize=12)\n",
    "predNNplot.set_title('Figure 3- Prediction Result Plot - FeedFoward NN');"
   ]
  },
  {
   "cell_type": "markdown",
   "metadata": {},
   "source": [
    "## General cost function in NN\n",
    "\n",
    "Since neural networks has a different architecture implementation, the previous cost function expression used for logistic and linear regression is not appropriate anymore. The new cost function is described in **Equation 5** where now the layers of the neural networks are taken account. \n",
    "\n",
    "$$ J(\\theta) = -\\frac{1}{m}\\sum_{i=1}^{m}\\sum_{k=1}^{K}\\bigg[y^{(i)}_{k}\\, log\\,(( h_\\theta\\,(x^{(i)}))_k)+(1-y^{(i)}_k)\\,log\\,(1-h_\\theta(x^{(i)}))_k)\\bigg] + \\frac{\\lambda}{2m}\\sum_{l=1}^{L-1}\\sum_{i=1}^{s_l}\\sum_{j=1}^{s_l+1}(\\Theta_{j,i}^{(l)})\\quad\\quad (5)$$\n",
    "\n",
    "where the variables:\n",
    "\n",
    "* $L = $ Total number of layers in the network\n",
    "* $s_l = $ Number of units (not counting bias unit) in layer l\n",
    "* $K = $ Number of output units/classes\n",
    "\n",
    "Recall that in neural networks, we may have many output nodes. We denote $h_\\Theta(x)_{k}$  as being a hypothesis that results in the $k^{th}$ output.\n",
    "For this particular neural network (one hidden layer with 25 units and one output layer with 10 units) the cost function can be represented as in **Equation 6**:\n",
    "\n",
    "$$ J(\\theta) = \\frac{1}{m}\\sum_{i=1}^{m}\\sum_{k=1}^{K}\\bigg[-y^{(i)}_{k}\\, log\\,(( h_\\theta\\,(x^{(i)}))_k)-(1-y^{(i)}_k)\\,log\\,(1-h_\\theta(x^{(i)}))_k)\\bigg] + \\frac{\\lambda}{2m}\\bigg[\\sum_{j=1}^{25}\\sum_{k=1}^{400}(\\Theta_{j,k}^{(1)})^2+\\sum_{j=1}^{10}\\sum_{k=1}^{25}(\\Theta_{j,k}^{(2)})^2\\bigg]\\quad\\quad (6)$$ "
   ]
  },
  {
   "cell_type": "markdown",
   "metadata": {},
   "source": [
    "## Backpropagation\n",
    "\n",
    "\"Backpropagation\" is neural-network terminology for minimizing the cost function (just as gradient descent in logistic and linear regression). As gradient descent, backpropagation equation is the partial derivative of the cost function in respect with theta(or weigths) as represented in **Equation 6**. However, since the cost function for neural networks are more complex (since now we have layers) the partial derivative is also complex. In order to understand concretely backpropagation, we can organize this complex implementation in steps.\n",
    "Before goes into the steps, it is important have some feeling about what is backpropagations is doing. Given a training example $(x^{(t)} ,y^{(t)} )$, we will first run a “forward pass” to compute all the activations throughout the network, including the output value of the hypothesis $h_{\\Theta}(x)$. Then, for each node $j$ in layer $l$, we would like to compute an “error term” $ \\delta^{(l)}_j$ that measures how much that node was “responsible” for any errors in our output.\n",
    "\n",
    "$$ Backpropagation = \\frac{\\partial}{\\partial \\Theta_{i,j}^{(l)}} J(\\Theta)\\quad\\quad (6) $$\n",
    "\n",
    "for compute such partial derivative we have first to:\n",
    "\n",
    "* 1 -  Perform forward propagation\n",
    "* 2 - compute $\\delta^{(L)} = a^{(L)} - y^{(t)}$ (Where L is our total number of layers and $a^{(L)}$ is the vector of outputs of the activation units for the last layer\n",
    "* 3 - Compute $\\delta^{(L-1)}, \\delta^{(L-2)},\\dots,\\delta^{(2)}$ using $\\delta^{(l)} = ((\\Theta^{(l)})^T \\delta^{(l+1)})\\ .*\\ a^{(l)}\\ .*\\ (1 - a^{(l)})$ where $(.*)$ is the element wise multiplication\n",
    "* 4 - Compute $\\Delta^{(l)}_{i,j} = \\Delta^{(l)}_{i,j} + a^{(l)}_{j}\\delta^{(l+1)}_i$  or with vectorization, $\\Delta^{(l)} := \\Delta^{(l)} + \\delta^{(l+1)}(a^{(l)})^T$\n",
    "\n",
    "When we update the $\\Delta$ matrix:\n",
    "\n",
    "* $D^{(l)}_{i,j} := \\frac{1}{m} (\\Delta^{(l)}_{i,j} +\\lambda\\Theta_{i,j}^{(l)}) \\quad\\text{if j} \\neq 0$ \n",
    "* $D^{(l)}_{i,j} := \\frac{1}{m} \\Delta^{(l)}_{i,j} \\quad\\text{if j} = 0$\n",
    "\n",
    "The capital-delta matrix D is used as an \"accumulator\" to add up our values as we go along and eventually compute our partial derivative. At the end, the we can set the final backpropagation as **Equation 8**:\n",
    "\n",
    "$$ D^{(l)}_{i,j}= \\frac{\\partial}{\\partial \\Theta_{i,j}^{(l)}} J(\\Theta)\\quad\\quad (8) $$\n",
    "\n",
    "As gradient descent, the backpropagation returns the optimized weights (thetas) to reduce the cost function."
   ]
  },
  {
   "cell_type": "markdown",
   "metadata": {},
   "source": [
    "## Sigmoid Gradient\n",
    "\n",
    "In order to perform backpropagation the sigmoid gradient should be computed. The sigmoid gradient is the derivative of the sigmoid (**Equation 2**) in respect of z (In neural networks, the z is the computation of weights with previous layer nodes output). **Equation 9** shows the sigmoid gradient:\n",
    "\n",
    "$$g \\ '(z^{(l)}) = a^{(l)}\\ .*\\ (1 - a^{(l)})\\quad \\quad (9)$$\n",
    "\n",
    "where $(.*)$ is the element wise multiplication and $a^{(l)}$ is the **node vector** (vector that represents the nodes of each layer - **sigmoid (z)**)"
   ]
  },
  {
   "cell_type": "code",
   "execution_count": 21,
   "metadata": {},
   "outputs": [],
   "source": [
    "def sigmoidGradient(z):\n",
    "    \n",
    "    return(sigmoid(z)*(1-sigmoid(z)))"
   ]
  },
  {
   "cell_type": "code",
   "execution_count": 112,
   "metadata": {},
   "outputs": [],
   "source": [
    "# All the weights concataneted in one dimensional vector \n",
    "weights = np.r_[weights1.values.flatten(),weights2.values.flatten()]\n",
    "\n",
    "# Cost Function for this particular neuron network with given weigths (1 hidden\n",
    "# layer + 1 output layer)\n",
    "def nnCostFunction(nn_params, input_layer_size, hidden_layer_size, num_labels, X, y, reg):\n",
    "    \n",
    "    # Reshapping the input weigths into the matrix form\n",
    "    weights1 = nn_params[0:(hidden_layer_size*(input_layer_size+1))].reshape(hidden_layer_size,(input_layer_size+1))\n",
    "    weights2 = nn_params[(hidden_layer_size*(input_layer_size+1)):].reshape(num_labels,(hidden_layer_size+1))\n",
    "    \n",
    "    # Length of input dataset\n",
    "    m = X.shape[0]\n",
    "    \n",
    "    # Intelligent get_dummies function which return a matrix with the \n",
    "    # data patterns represented by 1 and labeled by column index\n",
    "    y_matrix = pd.get_dummies(y.flatten()).values\n",
    "    \n",
    "    ## Feedfoward propagation\n",
    "    \n",
    "    # First layer - Input layer\n",
    "    a1 = X\n",
    "    \n",
    "    # Second layer (hidden layer) - OBS: Adding bias with ones (np.c_)\n",
    "    z2 = a1.dot(weights1.T)\n",
    "    a2 = np.c_[np.ones((z2.shape[0],1)),sigmoid(z2)]\n",
    "    \n",
    "    # Third layer (output layer)\n",
    "    z3 = a2.dot(weights2.T)\n",
    "    a3 = sigmoid(z3)\n",
    "\n",
    "    # The cost function\n",
    "    J = (-1)*(1/m)*np.sum((np.log(a3.T)*(y_matrix)+np.log(1-a3).T*(1-y_matrix)))+(reg/(2*m))*(np.sum(np.square(weights1[:,1:]))+np.sum(np.square(weights2[:,1:])))\n",
    "\n",
    "    ## Backpropagation\n",
    "    \n",
    "    # Second step backpropagation (a(L) - y)\n",
    "    d3 = a3.T - y_matrix # 5000x10\n",
    "    \n",
    "    # Third step backpropagation (delta(L-1)...)\n",
    "    d2 = weights2[:,1:].T.dot(d3.T)*sigmoidGradient(z2) # 25x10 *10x5000 * 25x5000 = 25x5000\n",
    "    \n",
    "    # Forth step backpropagation computtimg the error matrix\n",
    "    delta1 = d2.dot(a1) # 25x5000 * 5000x401 = 25x401\n",
    "    delta2 = d3.T.dot(a2) # 10x5000 *5000x26 = 10x26\n",
    "    \n",
    "    weights1_ = np.c_[np.ones((weights1.shape[0],1)),weights1[:,1:]]\n",
    "    weights2_ = np.c_[np.ones((weights2.shape[0],1)),weights2[:,1:]]\n",
    "    \n",
    "    # Matrix D accumulator\n",
    "    D1 = (1/m)*(delta1 + (weights1_*reg))\n",
    "    D2 = (1/m)*(delta2 + (weights2_*reg))\n",
    "    \n",
    "    return(J, weights1_grad, weights2_grad)"
   ]
  },
  {
   "cell_type": "markdown",
   "metadata": {},
   "source": [
    "## Random initialization\n",
    "\n",
    "When training neural networks, it is necessary to randomly initialize the parameters for symmetry breaking. Imporntant to know that the initial weights **can not be 0** (different from logistic regression, which is possible). When they are zero, the next layer nodes will interpret the input as the **same feature** (with the same value). One effective strategy for random initialization is to randomly select values for $\\Theta^{(l)}$ uniformly in the range $[-\\epsilon_{init},\\epsilon_{init}]$."
   ]
  },
  {
   "cell_type": "code",
   "execution_count": 102,
   "metadata": {},
   "outputs": [],
   "source": [
    "def randInitializeWeights(L_in, L_out,epsilon):\n",
    "    \n",
    "    W = np.random.rand(L_out, 1 + L_in)*(2*epsilon) - epsilon\n",
    "    \n",
    "    return W"
   ]
  },
  {
   "cell_type": "code",
   "execution_count": 105,
   "metadata": {},
   "outputs": [],
   "source": [
    "def checkNNGradients(weights1D,e,reg):\n",
    "\n",
    "    Jpos = nnCostFunction(nn_params + e, input_layer_size, hidden_layer_size,num_labels, X, y, reg)\n",
    "    Jneg = nnCostFunction(nn_params - e, input_layer_size, hidden_layer_size,num_labels, X, y, reg)\n",
    "    \n",
    "    return ((Jpos-Jneg)/(2*e))\n",
    "    "
   ]
  },
  {
   "cell_type": "code",
   "execution_count": 113,
   "metadata": {},
   "outputs": [
    {
     "ename": "ValueError",
     "evalue": "operands could not be broadcast together with shapes (10,5000) (5000,10) ",
     "output_type": "error",
     "traceback": [
      "\u001b[0;31m---------------------------------------------------------------------------\u001b[0m",
      "\u001b[0;31mValueError\u001b[0m                                Traceback (most recent call last)",
      "\u001b[0;32m<ipython-input-113-71b9d910be25>\u001b[0m in \u001b[0;36m<module>\u001b[0;34m()\u001b[0m\n\u001b[0;32m----> 1\u001b[0;31m \u001b[0mnnCostFunction\u001b[0m\u001b[0;34m(\u001b[0m\u001b[0mweights\u001b[0m\u001b[0;34m,\u001b[0m\u001b[0;36m400\u001b[0m\u001b[0;34m,\u001b[0m\u001b[0;36m25\u001b[0m\u001b[0;34m,\u001b[0m \u001b[0;36m10\u001b[0m\u001b[0;34m,\u001b[0m \u001b[0mX\u001b[0m\u001b[0;34m.\u001b[0m\u001b[0mvalues\u001b[0m\u001b[0;34m,\u001b[0m\u001b[0my\u001b[0m\u001b[0;34m.\u001b[0m\u001b[0mvalues\u001b[0m\u001b[0;34m,\u001b[0m \u001b[0;36m1\u001b[0m\u001b[0;34m)\u001b[0m\u001b[0;34m\u001b[0m\u001b[0m\n\u001b[0m",
      "\u001b[0;32m<ipython-input-112-7a46b9be8127>\u001b[0m in \u001b[0;36mnnCostFunction\u001b[0;34m(nn_params, input_layer_size, hidden_layer_size, num_labels, X, y, reg)\u001b[0m\n\u001b[1;32m     31\u001b[0m \u001b[0;34m\u001b[0m\u001b[0m\n\u001b[1;32m     32\u001b[0m     \u001b[0;31m# The cost function\u001b[0m\u001b[0;34m\u001b[0m\u001b[0;34m\u001b[0m\u001b[0m\n\u001b[0;32m---> 33\u001b[0;31m     \u001b[0mJ\u001b[0m \u001b[0;34m=\u001b[0m \u001b[0;34m(\u001b[0m\u001b[0;34m-\u001b[0m\u001b[0;36m1\u001b[0m\u001b[0;34m)\u001b[0m\u001b[0;34m*\u001b[0m\u001b[0;34m(\u001b[0m\u001b[0;36m1\u001b[0m\u001b[0;34m/\u001b[0m\u001b[0mm\u001b[0m\u001b[0;34m)\u001b[0m\u001b[0;34m*\u001b[0m\u001b[0mnp\u001b[0m\u001b[0;34m.\u001b[0m\u001b[0msum\u001b[0m\u001b[0;34m(\u001b[0m\u001b[0;34m(\u001b[0m\u001b[0mnp\u001b[0m\u001b[0;34m.\u001b[0m\u001b[0mlog\u001b[0m\u001b[0;34m(\u001b[0m\u001b[0ma3\u001b[0m\u001b[0;34m.\u001b[0m\u001b[0mT\u001b[0m\u001b[0;34m)\u001b[0m\u001b[0;34m*\u001b[0m\u001b[0;34m(\u001b[0m\u001b[0my_matrix\u001b[0m\u001b[0;34m)\u001b[0m\u001b[0;34m+\u001b[0m\u001b[0mnp\u001b[0m\u001b[0;34m.\u001b[0m\u001b[0mlog\u001b[0m\u001b[0;34m(\u001b[0m\u001b[0;36m1\u001b[0m\u001b[0;34m-\u001b[0m\u001b[0ma3\u001b[0m\u001b[0;34m)\u001b[0m\u001b[0;34m.\u001b[0m\u001b[0mT\u001b[0m\u001b[0;34m*\u001b[0m\u001b[0;34m(\u001b[0m\u001b[0;36m1\u001b[0m\u001b[0;34m-\u001b[0m\u001b[0my_matrix\u001b[0m\u001b[0;34m)\u001b[0m\u001b[0;34m)\u001b[0m\u001b[0;34m)\u001b[0m\u001b[0;34m+\u001b[0m\u001b[0;34m(\u001b[0m\u001b[0mreg\u001b[0m\u001b[0;34m/\u001b[0m\u001b[0;34m(\u001b[0m\u001b[0;36m2\u001b[0m\u001b[0;34m*\u001b[0m\u001b[0mm\u001b[0m\u001b[0;34m)\u001b[0m\u001b[0;34m)\u001b[0m\u001b[0;34m*\u001b[0m\u001b[0;34m(\u001b[0m\u001b[0mnp\u001b[0m\u001b[0;34m.\u001b[0m\u001b[0msum\u001b[0m\u001b[0;34m(\u001b[0m\u001b[0mnp\u001b[0m\u001b[0;34m.\u001b[0m\u001b[0msquare\u001b[0m\u001b[0;34m(\u001b[0m\u001b[0mweights1\u001b[0m\u001b[0;34m[\u001b[0m\u001b[0;34m:\u001b[0m\u001b[0;34m,\u001b[0m\u001b[0;36m1\u001b[0m\u001b[0;34m:\u001b[0m\u001b[0;34m]\u001b[0m\u001b[0;34m)\u001b[0m\u001b[0;34m)\u001b[0m\u001b[0;34m+\u001b[0m\u001b[0mnp\u001b[0m\u001b[0;34m.\u001b[0m\u001b[0msum\u001b[0m\u001b[0;34m(\u001b[0m\u001b[0mnp\u001b[0m\u001b[0;34m.\u001b[0m\u001b[0msquare\u001b[0m\u001b[0;34m(\u001b[0m\u001b[0mweights2\u001b[0m\u001b[0;34m[\u001b[0m\u001b[0;34m:\u001b[0m\u001b[0;34m,\u001b[0m\u001b[0;36m1\u001b[0m\u001b[0;34m:\u001b[0m\u001b[0;34m]\u001b[0m\u001b[0;34m)\u001b[0m\u001b[0;34m)\u001b[0m\u001b[0;34m)\u001b[0m\u001b[0;34m\u001b[0m\u001b[0m\n\u001b[0m\u001b[1;32m     34\u001b[0m \u001b[0;34m\u001b[0m\u001b[0m\n\u001b[1;32m     35\u001b[0m     \u001b[0;31m## Backpropagation\u001b[0m\u001b[0;34m\u001b[0m\u001b[0;34m\u001b[0m\u001b[0m\n",
      "\u001b[0;31mValueError\u001b[0m: operands could not be broadcast together with shapes (10,5000) (5000,10) "
     ]
    }
   ],
   "source": [
    "nnCostFunction(weights,400,25, 10, X.values,y.values, 1)"
   ]
  },
  {
   "cell_type": "code",
   "execution_count": 100,
   "metadata": {},
   "outputs": [],
   "source": [
    "weights = np.r_[weights1.values.flatten(),weights2.values.flatten()]"
   ]
  },
  {
   "cell_type": "code",
   "execution_count": 109,
   "metadata": {},
   "outputs": [
    {
     "data": {
      "text/plain": [
       "array([-2.15620000e-02,  9.99989400e-04,  1.00000219e-03, ...,\n",
       "       -2.47000000e-01,  1.28110000e+00, -1.32650000e+00])"
      ]
     },
     "execution_count": 109,
     "metadata": {},
     "output_type": "execute_result"
    }
   ],
   "source": []
  },
  {
   "cell_type": "code",
   "execution_count": null,
   "metadata": {},
   "outputs": [],
   "source": []
  }
 ],
 "metadata": {
  "kernelspec": {
   "display_name": "Python 3",
   "language": "python",
   "name": "python3"
  },
  "language_info": {
   "codemirror_mode": {
    "name": "ipython",
    "version": 3
   },
   "file_extension": ".py",
   "mimetype": "text/x-python",
   "name": "python",
   "nbconvert_exporter": "python",
   "pygments_lexer": "ipython3",
   "version": "3.6.5"
  }
 },
 "nbformat": 4,
 "nbformat_minor": 2
}
